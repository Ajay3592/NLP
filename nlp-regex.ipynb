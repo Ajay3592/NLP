{
 "cells": [
  {
   "cell_type": "code",
   "execution_count": 1,
   "id": "ced07e2a",
   "metadata": {
    "execution": {
     "iopub.execute_input": "2022-08-02T05:15:34.171526Z",
     "iopub.status.busy": "2022-08-02T05:15:34.170744Z",
     "iopub.status.idle": "2022-08-02T05:15:34.182086Z",
     "shell.execute_reply": "2022-08-02T05:15:34.181109Z"
    },
    "papermill": {
     "duration": 0.021383,
     "end_time": "2022-08-02T05:15:34.184614",
     "exception": false,
     "start_time": "2022-08-02T05:15:34.163231",
     "status": "completed"
    },
    "tags": []
   },
   "outputs": [],
   "source": [
    "#Import required libraries\n",
    "import re"
   ]
  },
  {
   "cell_type": "markdown",
   "id": "4f1e7793",
   "metadata": {
    "papermill": {
     "duration": 0.004199,
     "end_time": "2022-08-02T05:15:34.193652",
     "exception": false,
     "start_time": "2022-08-02T05:15:34.189453",
     "status": "completed"
    },
    "tags": []
   },
   "source": [
    "# 1. Retrive Order no"
   ]
  },
  {
   "cell_type": "code",
   "execution_count": 2,
   "id": "867ec6ac",
   "metadata": {
    "execution": {
     "iopub.execute_input": "2022-08-02T05:15:34.204410Z",
     "iopub.status.busy": "2022-08-02T05:15:34.203957Z",
     "iopub.status.idle": "2022-08-02T05:15:34.210454Z",
     "shell.execute_reply": "2022-08-02T05:15:34.209088Z"
    },
    "papermill": {
     "duration": 0.014613,
     "end_time": "2022-08-02T05:15:34.212752",
     "exception": false,
     "start_time": "2022-08-02T05:15:34.198139",
     "status": "completed"
    },
    "tags": []
   },
   "outputs": [
    {
     "name": "stdout",
     "output_type": "stream",
     "text": [
      "['123456']\n"
     ]
    }
   ],
   "source": [
    "chat1 = \"My order number is : 123456\"\n",
    "pattern = 'order[^\\d]*(\\d*)'\n",
    "match = re.findall(pattern,chat1)\n",
    "print(match)"
   ]
  },
  {
   "cell_type": "code",
   "execution_count": 3,
   "id": "15e9b162",
   "metadata": {
    "execution": {
     "iopub.execute_input": "2022-08-02T05:15:34.223779Z",
     "iopub.status.busy": "2022-08-02T05:15:34.223370Z",
     "iopub.status.idle": "2022-08-02T05:15:34.230089Z",
     "shell.execute_reply": "2022-08-02T05:15:34.228451Z"
    },
    "papermill": {
     "duration": 0.014854,
     "end_time": "2022-08-02T05:15:34.232380",
     "exception": false,
     "start_time": "2022-08-02T05:15:34.217526",
     "status": "completed"
    },
    "tags": []
   },
   "outputs": [
    {
     "name": "stdout",
     "output_type": "stream",
     "text": [
      "['123456']\n"
     ]
    }
   ],
   "source": [
    "chat2 = \"I have placed an order 123456 and paid amount Rs.500/-\"\n",
    "pattern = 'order[^\\d]*(\\d*)'\n",
    "match = re.findall(pattern,chat2)\n",
    "print(match)"
   ]
  },
  {
   "cell_type": "code",
   "execution_count": 4,
   "id": "b369f908",
   "metadata": {
    "execution": {
     "iopub.execute_input": "2022-08-02T05:15:34.243852Z",
     "iopub.status.busy": "2022-08-02T05:15:34.242742Z",
     "iopub.status.idle": "2022-08-02T05:15:34.248983Z",
     "shell.execute_reply": "2022-08-02T05:15:34.247715Z"
    },
    "papermill": {
     "duration": 0.014163,
     "end_time": "2022-08-02T05:15:34.251210",
     "exception": false,
     "start_time": "2022-08-02T05:15:34.237047",
     "status": "completed"
    },
    "tags": []
   },
   "outputs": [
    {
     "name": "stdout",
     "output_type": "stream",
     "text": [
      "['123456']\n"
     ]
    }
   ],
   "source": [
    "chat3 = \"My order got cancelled, order number is '123456'\"\n",
    "pattern = 'order[^\\d]*(\\d*)'\n",
    "match = re.findall(pattern,chat3)\n",
    "print(match)"
   ]
  },
  {
   "cell_type": "markdown",
   "id": "bce3b7f9",
   "metadata": {
    "papermill": {
     "duration": 0.004407,
     "end_time": "2022-08-02T05:15:34.260247",
     "exception": false,
     "start_time": "2022-08-02T05:15:34.255840",
     "status": "completed"
    },
    "tags": []
   },
   "source": [
    "# **2. Extract Email and Phone number**"
   ]
  },
  {
   "cell_type": "code",
   "execution_count": 5,
   "id": "7ff45d59",
   "metadata": {
    "execution": {
     "iopub.execute_input": "2022-08-02T05:15:34.271181Z",
     "iopub.status.busy": "2022-08-02T05:15:34.270763Z",
     "iopub.status.idle": "2022-08-02T05:15:34.280951Z",
     "shell.execute_reply": "2022-08-02T05:15:34.280002Z"
    },
    "papermill": {
     "duration": 0.018427,
     "end_time": "2022-08-02T05:15:34.283238",
     "exception": false,
     "start_time": "2022-08-02T05:15:34.264811",
     "status": "completed"
    },
    "tags": []
   },
   "outputs": [
    {
     "data": {
      "text/plain": [
       "'abc@xyz.com'"
      ]
     },
     "execution_count": 5,
     "metadata": {},
     "output_type": "execute_result"
    }
   ],
   "source": [
    "chat1 = \"My mail Id is abc@xyz.com\"\n",
    "pattern = '[a-zA-Z0-9_]*@[a-zA-Z]*\\.[a-zA-Z]*'\n",
    "match = re.findall(pattern, chat1)\n",
    "match[0]"
   ]
  },
  {
   "cell_type": "code",
   "execution_count": 6,
   "id": "9dcb1561",
   "metadata": {
    "execution": {
     "iopub.execute_input": "2022-08-02T05:15:34.295087Z",
     "iopub.status.busy": "2022-08-02T05:15:34.294669Z",
     "iopub.status.idle": "2022-08-02T05:15:34.301658Z",
     "shell.execute_reply": "2022-08-02T05:15:34.300774Z"
    },
    "papermill": {
     "duration": 0.015379,
     "end_time": "2022-08-02T05:15:34.303700",
     "exception": false,
     "start_time": "2022-08-02T05:15:34.288321",
     "status": "completed"
    },
    "tags": []
   },
   "outputs": [
    {
     "data": {
      "text/plain": [
       "'abc@xyz.com'"
      ]
     },
     "execution_count": 6,
     "metadata": {},
     "output_type": "execute_result"
    }
   ],
   "source": [
    "chat1 = \"My mail Id is abc@xyz.com\"\n",
    "pattern = '[\\w]*@[\\w]*\\.[\\w]*'\n",
    "match = re.findall(pattern, chat1)\n",
    "match[0]"
   ]
  },
  {
   "cell_type": "code",
   "execution_count": 7,
   "id": "6d9cf066",
   "metadata": {
    "execution": {
     "iopub.execute_input": "2022-08-02T05:15:34.315418Z",
     "iopub.status.busy": "2022-08-02T05:15:34.314972Z",
     "iopub.status.idle": "2022-08-02T05:15:34.322346Z",
     "shell.execute_reply": "2022-08-02T05:15:34.321219Z"
    },
    "papermill": {
     "duration": 0.015894,
     "end_time": "2022-08-02T05:15:34.324592",
     "exception": false,
     "start_time": "2022-08-02T05:15:34.308698",
     "status": "completed"
    },
    "tags": []
   },
   "outputs": [
    {
     "name": "stdout",
     "output_type": "stream",
     "text": [
      "Mail ID is : abc@xyz.com\n",
      "Phone nuber is : ('9876543210', '')\n"
     ]
    }
   ],
   "source": [
    "chat2 = \"contact details : Mail : abc@xyz.com, Phone : 9876543210\"\n",
    "pattern1= '[\\w]*@[\\w]*\\.[\\w]*'\n",
    "pattern2 = '(\\d{10})|(\\(\\d{3}\\)-\\d{3}-\\d{4})'\n",
    "match1 = re.findall(pattern1, chat2)\n",
    "match2 = re.findall(pattern2, chat2)\n",
    "print(f'Mail ID is :',match1[0])\n",
    "print(f'Phone nuber is :',match2[0])"
   ]
  },
  {
   "cell_type": "markdown",
   "id": "4eced6cf",
   "metadata": {
    "papermill": {
     "duration": 0.004822,
     "end_time": "2022-08-02T05:15:34.334620",
     "exception": false,
     "start_time": "2022-08-02T05:15:34.329798",
     "status": "completed"
    },
    "tags": []
   },
   "source": [
    "# **3. Extract financial periods from a company's financial reporting**"
   ]
  },
  {
   "cell_type": "code",
   "execution_count": 8,
   "id": "2afeeb9a",
   "metadata": {
    "execution": {
     "iopub.execute_input": "2022-08-02T05:15:34.346535Z",
     "iopub.status.busy": "2022-08-02T05:15:34.346072Z",
     "iopub.status.idle": "2022-08-02T05:15:34.353249Z",
     "shell.execute_reply": "2022-08-02T05:15:34.352384Z"
    },
    "papermill": {
     "duration": 0.015746,
     "end_time": "2022-08-02T05:15:34.355378",
     "exception": false,
     "start_time": "2022-08-02T05:15:34.339632",
     "status": "completed"
    },
    "tags": []
   },
   "outputs": [
    {
     "data": {
      "text/plain": [
       "['FY2021 Q1', 'FY2020 Q4']"
      ]
     },
     "execution_count": 8,
     "metadata": {},
     "output_type": "execute_result"
    }
   ],
   "source": [
    "text = '''\n",
    "The gross cost of operating lease vehicles in FY2021 Q1 was $4.85 billion.\n",
    "In previous quarter i.e. FY2020 Q4 it was $3 billion. \n",
    "'''\n",
    "\n",
    "pattern = 'FY\\d{4} Q[1-4]'\n",
    "\n",
    "matches = re.findall(pattern, text)\n",
    "matches"
   ]
  },
  {
   "cell_type": "markdown",
   "id": "22f86f76",
   "metadata": {
    "papermill": {
     "duration": 0.004765,
     "end_time": "2022-08-02T05:15:34.365398",
     "exception": false,
     "start_time": "2022-08-02T05:15:34.360633",
     "status": "completed"
    },
    "tags": []
   },
   "source": [
    "* **Case insensitive pattern match using flags**"
   ]
  },
  {
   "cell_type": "code",
   "execution_count": 9,
   "id": "c4b9aafa",
   "metadata": {
    "execution": {
     "iopub.execute_input": "2022-08-02T05:15:34.377360Z",
     "iopub.status.busy": "2022-08-02T05:15:34.376896Z",
     "iopub.status.idle": "2022-08-02T05:15:34.384582Z",
     "shell.execute_reply": "2022-08-02T05:15:34.383636Z"
    },
    "papermill": {
     "duration": 0.016341,
     "end_time": "2022-08-02T05:15:34.386742",
     "exception": false,
     "start_time": "2022-08-02T05:15:34.370401",
     "status": "completed"
    },
    "tags": []
   },
   "outputs": [
    {
     "data": {
      "text/plain": [
       "['FY2021 Q1', 'fy2020 Q4']"
      ]
     },
     "execution_count": 9,
     "metadata": {},
     "output_type": "execute_result"
    }
   ],
   "source": [
    "text = '''\n",
    "The gross cost of operating lease vehicles in FY2021 Q1 was $4.85 billion.\n",
    "In previous quarter i.e. fy2020 Q4 it was $3 billion. \n",
    "'''\n",
    "\n",
    "pattern = 'FY\\d{4} Q[1-4]'\n",
    "\n",
    "matches = re.findall(pattern, text, flags=re.IGNORECASE)\n",
    "matches"
   ]
  },
  {
   "cell_type": "markdown",
   "id": "c20a862f",
   "metadata": {
    "papermill": {
     "duration": 0.004898,
     "end_time": "2022-08-02T05:15:34.396987",
     "exception": false,
     "start_time": "2022-08-02T05:15:34.392089",
     "status": "completed"
    },
    "tags": []
   },
   "source": [
    "# **4. Information Extraction**"
   ]
  },
  {
   "cell_type": "code",
   "execution_count": 10,
   "id": "904b8738",
   "metadata": {
    "execution": {
     "iopub.execute_input": "2022-08-02T05:15:34.409173Z",
     "iopub.status.busy": "2022-08-02T05:15:34.408776Z",
     "iopub.status.idle": "2022-08-02T05:15:34.413550Z",
     "shell.execute_reply": "2022-08-02T05:15:34.412671Z"
    },
    "papermill": {
     "duration": 0.013536,
     "end_time": "2022-08-02T05:15:34.415666",
     "exception": false,
     "start_time": "2022-08-02T05:15:34.402130",
     "status": "completed"
    },
    "tags": []
   },
   "outputs": [],
   "source": [
    "text = '''\n",
    "Born Elon Reeve Musk\n",
    "June 28, 1971 (age 50)\n",
    "Pretoria, Transvaal, South Africa\n",
    "Citizenship\n",
    "South Africa (1971–present)\n",
    "Canada (1971–present)\n",
    "United States (2002–present)\n",
    "Education University of Pennsylvania (BS, BA)\n",
    "Title\n",
    "Founder, CEO and Chief Engineer of SpaceX\n",
    "CEO and product architect of Tesla, Inc.\n",
    "Founder of The Boring Company and X.com (now part of PayPal)\n",
    "Co-founder of Neuralink, OpenAI, and Zip2\n",
    "Spouse(s)\n",
    "Justine Wilson\n",
    "\n",
    "(m. 2000; div. 2008)\n",
    "Talulah Riley\n",
    "(m. 2010; dv. 2012)\n",
    "\n",
    "(m. 2013; div. 2016)\n",
    "'''"
   ]
  },
  {
   "cell_type": "code",
   "execution_count": 11,
   "id": "0590bd20",
   "metadata": {
    "execution": {
     "iopub.execute_input": "2022-08-02T05:15:34.428078Z",
     "iopub.status.busy": "2022-08-02T05:15:34.427640Z",
     "iopub.status.idle": "2022-08-02T05:15:34.432622Z",
     "shell.execute_reply": "2022-08-02T05:15:34.431624Z"
    },
    "papermill": {
     "duration": 0.013954,
     "end_time": "2022-08-02T05:15:34.434955",
     "exception": false,
     "start_time": "2022-08-02T05:15:34.421001",
     "status": "completed"
    },
    "tags": []
   },
   "outputs": [],
   "source": [
    "def extract_information(text1):\n",
    "    age = re.findall(r'age (\\d+)', text1)\n",
    "    return {'Age':int(age[0])}"
   ]
  },
  {
   "cell_type": "code",
   "execution_count": 12,
   "id": "61dd92a5",
   "metadata": {
    "execution": {
     "iopub.execute_input": "2022-08-02T05:15:34.448407Z",
     "iopub.status.busy": "2022-08-02T05:15:34.447468Z",
     "iopub.status.idle": "2022-08-02T05:15:34.454762Z",
     "shell.execute_reply": "2022-08-02T05:15:34.453817Z"
    },
    "papermill": {
     "duration": 0.016637,
     "end_time": "2022-08-02T05:15:34.457052",
     "exception": false,
     "start_time": "2022-08-02T05:15:34.440415",
     "status": "completed"
    },
    "tags": []
   },
   "outputs": [
    {
     "data": {
      "text/plain": [
       "{'Age': 50}"
      ]
     },
     "execution_count": 12,
     "metadata": {},
     "output_type": "execute_result"
    }
   ],
   "source": [
    "extract_information(text)"
   ]
  }
 ],
 "metadata": {
  "kernelspec": {
   "display_name": "Python 3",
   "language": "python",
   "name": "python3"
  },
  "language_info": {
   "codemirror_mode": {
    "name": "ipython",
    "version": 3
   },
   "file_extension": ".py",
   "mimetype": "text/x-python",
   "name": "python",
   "nbconvert_exporter": "python",
   "pygments_lexer": "ipython3",
   "version": "3.7.12"
  },
  "papermill": {
   "default_parameters": {},
   "duration": 10.542692,
   "end_time": "2022-08-02T05:15:35.184996",
   "environment_variables": {},
   "exception": null,
   "input_path": "__notebook__.ipynb",
   "output_path": "__notebook__.ipynb",
   "parameters": {},
   "start_time": "2022-08-02T05:15:24.642304",
   "version": "2.3.4"
  }
 },
 "nbformat": 4,
 "nbformat_minor": 5
}
