{
 "cells": [
  {
   "cell_type": "code",
   "execution_count": 1,
   "id": "8a92be99",
   "metadata": {
    "execution": {
     "iopub.execute_input": "2022-08-02T08:00:22.897656Z",
     "iopub.status.busy": "2022-08-02T08:00:22.896854Z",
     "iopub.status.idle": "2022-08-02T08:00:23.902674Z",
     "shell.execute_reply": "2022-08-02T08:00:23.901476Z"
    },
    "papermill": {
     "duration": 1.014627,
     "end_time": "2022-08-02T08:00:23.905407",
     "exception": false,
     "start_time": "2022-08-02T08:00:22.890780",
     "status": "completed"
    },
    "tags": []
   },
   "outputs": [],
   "source": [
    "import pandas as pd\n",
    "import numpy as np\n",
    "import re\n",
    "from sklearn.preprocessing import LabelEncoder, OneHotEncoder"
   ]
  },
  {
   "cell_type": "markdown",
   "id": "26623d37",
   "metadata": {
    "papermill": {
     "duration": 0.003047,
     "end_time": "2022-08-02T08:00:23.912105",
     "exception": false,
     "start_time": "2022-08-02T08:00:23.909058",
     "status": "completed"
    },
    "tags": []
   },
   "source": [
    "# **Custom implementation**"
   ]
  },
  {
   "cell_type": "code",
   "execution_count": 2,
   "id": "68df9587",
   "metadata": {
    "execution": {
     "iopub.execute_input": "2022-08-02T08:00:23.920607Z",
     "iopub.status.busy": "2022-08-02T08:00:23.920173Z",
     "iopub.status.idle": "2022-08-02T08:00:23.929068Z",
     "shell.execute_reply": "2022-08-02T08:00:23.927817Z"
    },
    "papermill": {
     "duration": 0.016418,
     "end_time": "2022-08-02T08:00:23.931782",
     "exception": false,
     "start_time": "2022-08-02T08:00:23.915364",
     "status": "completed"
    },
    "tags": []
   },
   "outputs": [
    {
     "data": {
      "text/plain": [
       "['dog bites man', 'man bites dog', 'dog eats meat', 'man eats food']"
      ]
     },
     "execution_count": 2,
     "metadata": {},
     "output_type": "execute_result"
    }
   ],
   "source": [
    "documents = [\"Dog bites man.\", \"Man bites dog.\", \"Dog eats meat.\", \"Man eats food.\"]\n",
    "processed_docs = [doc.lower().replace(\".\",\"\") for doc in documents]\n",
    "processed_docs"
   ]
  },
  {
   "cell_type": "code",
   "execution_count": 3,
   "id": "a368e49f",
   "metadata": {
    "execution": {
     "iopub.execute_input": "2022-08-02T08:00:23.941231Z",
     "iopub.status.busy": "2022-08-02T08:00:23.940248Z",
     "iopub.status.idle": "2022-08-02T08:00:23.947576Z",
     "shell.execute_reply": "2022-08-02T08:00:23.946397Z"
    },
    "papermill": {
     "duration": 0.015206,
     "end_time": "2022-08-02T08:00:23.950597",
     "exception": false,
     "start_time": "2022-08-02T08:00:23.935391",
     "status": "completed"
    },
    "tags": []
   },
   "outputs": [
    {
     "name": "stdout",
     "output_type": "stream",
     "text": [
      "{'dog': 1, 'bites': 2, 'man': 3, 'eats': 4, 'meat': 5, 'food': 6}\n"
     ]
    }
   ],
   "source": [
    "# Prepare word dictonary\n",
    "vocab = {}\n",
    "count = 0\n",
    "for doc in processed_docs:\n",
    "    for word in doc.split():\n",
    "        if(word not in vocab):\n",
    "            count = count + 1\n",
    "            vocab[word] = count\n",
    "print(vocab)"
   ]
  },
  {
   "cell_type": "code",
   "execution_count": 4,
   "id": "da0bf3ac",
   "metadata": {
    "execution": {
     "iopub.execute_input": "2022-08-02T08:00:23.959991Z",
     "iopub.status.busy": "2022-08-02T08:00:23.959070Z",
     "iopub.status.idle": "2022-08-02T08:00:23.965341Z",
     "shell.execute_reply": "2022-08-02T08:00:23.964260Z"
    },
    "papermill": {
     "duration": 0.013608,
     "end_time": "2022-08-02T08:00:23.967812",
     "exception": false,
     "start_time": "2022-08-02T08:00:23.954204",
     "status": "completed"
    },
    "tags": []
   },
   "outputs": [],
   "source": [
    "def get_one_hot_encoded_vector(sometext):\n",
    "    one_hot_vector = []\n",
    "    for word in sometext.split():\n",
    "        temp = [0]*len(vocab)\n",
    "        if word in vocab:\n",
    "            temp[vocab[word]-1] = 1\n",
    "        one_hot_vector.append(temp)\n",
    "    return one_hot_vector"
   ]
  },
  {
   "cell_type": "code",
   "execution_count": 5,
   "id": "a1d8ebb0",
   "metadata": {
    "execution": {
     "iopub.execute_input": "2022-08-02T08:00:23.977048Z",
     "iopub.status.busy": "2022-08-02T08:00:23.976274Z",
     "iopub.status.idle": "2022-08-02T08:00:23.984178Z",
     "shell.execute_reply": "2022-08-02T08:00:23.982653Z"
    },
    "papermill": {
     "duration": 0.015098,
     "end_time": "2022-08-02T08:00:23.986544",
     "exception": false,
     "start_time": "2022-08-02T08:00:23.971446",
     "status": "completed"
    },
    "tags": []
   },
   "outputs": [
    {
     "name": "stdout",
     "output_type": "stream",
     "text": [
      "man bites dog\n"
     ]
    },
    {
     "data": {
      "text/plain": [
       "[[0, 0, 1, 0, 0, 0], [0, 1, 0, 0, 0, 0], [1, 0, 0, 0, 0, 0]]"
      ]
     },
     "execution_count": 5,
     "metadata": {},
     "output_type": "execute_result"
    }
   ],
   "source": [
    "print(processed_docs[1])\n",
    "get_one_hot_encoded_vector(processed_docs[1])"
   ]
  },
  {
   "cell_type": "code",
   "execution_count": 6,
   "id": "53aad8af",
   "metadata": {
    "execution": {
     "iopub.execute_input": "2022-08-02T08:00:23.996248Z",
     "iopub.status.busy": "2022-08-02T08:00:23.995416Z",
     "iopub.status.idle": "2022-08-02T08:00:24.003258Z",
     "shell.execute_reply": "2022-08-02T08:00:24.002091Z"
    },
    "papermill": {
     "duration": 0.015298,
     "end_time": "2022-08-02T08:00:24.005781",
     "exception": false,
     "start_time": "2022-08-02T08:00:23.990483",
     "status": "completed"
    },
    "tags": []
   },
   "outputs": [
    {
     "data": {
      "text/plain": [
       "[[1, 0, 0, 0, 0, 0], [0, 1, 0, 0, 0, 0], [0, 0, 1, 0, 0, 0]]"
      ]
     },
     "execution_count": 6,
     "metadata": {},
     "output_type": "execute_result"
    }
   ],
   "source": [
    "get_one_hot_encoded_vector('dog bites man')"
   ]
  },
  {
   "cell_type": "markdown",
   "id": "899942cb",
   "metadata": {
    "papermill": {
     "duration": 0.003477,
     "end_time": "2022-08-02T08:00:24.013150",
     "exception": false,
     "start_time": "2022-08-02T08:00:24.009673",
     "status": "completed"
    },
    "tags": []
   },
   "source": [
    "# **Scikit learn Implementation**"
   ]
  },
  {
   "cell_type": "code",
   "execution_count": 7,
   "id": "fdfc5b52",
   "metadata": {
    "execution": {
     "iopub.execute_input": "2022-08-02T08:00:24.022340Z",
     "iopub.status.busy": "2022-08-02T08:00:24.021905Z",
     "iopub.status.idle": "2022-08-02T08:00:24.027243Z",
     "shell.execute_reply": "2022-08-02T08:00:24.026117Z"
    },
    "papermill": {
     "duration": 0.012785,
     "end_time": "2022-08-02T08:00:24.029747",
     "exception": false,
     "start_time": "2022-08-02T08:00:24.016962",
     "status": "completed"
    },
    "tags": []
   },
   "outputs": [],
   "source": [
    "d1 = 'dog bites man'\n",
    "d2 = 'man bites dog'\n",
    "d3 = 'dog eats meat'\n",
    "d4 = 'man eats food'"
   ]
  },
  {
   "cell_type": "code",
   "execution_count": 8,
   "id": "335dbb52",
   "metadata": {
    "execution": {
     "iopub.execute_input": "2022-08-02T08:00:24.039125Z",
     "iopub.status.busy": "2022-08-02T08:00:24.038714Z",
     "iopub.status.idle": "2022-08-02T08:00:24.049700Z",
     "shell.execute_reply": "2022-08-02T08:00:24.048090Z"
    },
    "papermill": {
     "duration": 0.018745,
     "end_time": "2022-08-02T08:00:24.052471",
     "exception": false,
     "start_time": "2022-08-02T08:00:24.033726",
     "status": "completed"
    },
    "tags": []
   },
   "outputs": [
    {
     "name": "stdout",
     "output_type": "stream",
     "text": [
      "The data:  ['dog', 'bites', 'man', 'man', 'bites', 'dog', 'dog', 'eats', 'meat', 'man', 'eats', 'food']\n",
      "One hot encoded vector [[1. 0. 1. 0. 0. 0. 1. 0.]\n",
      " [0. 1. 1. 0. 1. 0. 0. 0.]\n",
      " [1. 0. 0. 1. 0. 0. 0. 1.]\n",
      " [0. 1. 0. 1. 0. 1. 0. 0.]]\n"
     ]
    }
   ],
   "source": [
    "data = [d1.split(), d2.split(), d3.split(), d4.split()]\n",
    "values = data[0]+data[1]+data[2]+data[3]\n",
    "print(\"The data: \",values)\n",
    "\n",
    "encoder = OneHotEncoder()\n",
    "\n",
    "OneHotEncodedVector = encoder.fit_transform(data).toarray()\n",
    "print(f'One hot encoded vector',OneHotEncodedVector)"
   ]
  },
  {
   "cell_type": "code",
   "execution_count": null,
   "id": "c86a3e5e",
   "metadata": {
    "papermill": {
     "duration": 0.003624,
     "end_time": "2022-08-02T08:00:24.060365",
     "exception": false,
     "start_time": "2022-08-02T08:00:24.056741",
     "status": "completed"
    },
    "tags": []
   },
   "outputs": [],
   "source": []
  }
 ],
 "metadata": {
  "kernelspec": {
   "display_name": "Python 3",
   "language": "python",
   "name": "python3"
  },
  "language_info": {
   "codemirror_mode": {
    "name": "ipython",
    "version": 3
   },
   "file_extension": ".py",
   "mimetype": "text/x-python",
   "name": "python",
   "nbconvert_exporter": "python",
   "pygments_lexer": "ipython3",
   "version": "3.7.12"
  },
  "papermill": {
   "default_parameters": {},
   "duration": 10.890531,
   "end_time": "2022-08-02T08:00:24.786262",
   "environment_variables": {},
   "exception": null,
   "input_path": "__notebook__.ipynb",
   "output_path": "__notebook__.ipynb",
   "parameters": {},
   "start_time": "2022-08-02T08:00:13.895731",
   "version": "2.3.4"
  }
 },
 "nbformat": 4,
 "nbformat_minor": 5
}
