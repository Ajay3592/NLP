{
 "cells": [
  {
   "cell_type": "code",
   "execution_count": 1,
   "id": "7136c933",
   "metadata": {
    "execution": {
     "iopub.execute_input": "2022-08-02T06:54:40.308430Z",
     "iopub.status.busy": "2022-08-02T06:54:40.307415Z",
     "iopub.status.idle": "2022-08-02T06:54:42.176977Z",
     "shell.execute_reply": "2022-08-02T06:54:42.175939Z"
    },
    "papermill": {
     "duration": 1.878886,
     "end_time": "2022-08-02T06:54:42.179626",
     "exception": false,
     "start_time": "2022-08-02T06:54:40.300740",
     "status": "completed"
    },
    "tags": []
   },
   "outputs": [],
   "source": [
    "import pandas as pd\n",
    "import numpy as np\n",
    "import re\n",
    "import string\n",
    "import nltk"
   ]
  },
  {
   "cell_type": "code",
   "execution_count": 2,
   "id": "a752bae8",
   "metadata": {
    "execution": {
     "iopub.execute_input": "2022-08-02T06:54:42.189843Z",
     "iopub.status.busy": "2022-08-02T06:54:42.189168Z",
     "iopub.status.idle": "2022-08-02T06:54:42.199172Z",
     "shell.execute_reply": "2022-08-02T06:54:42.197873Z"
    },
    "papermill": {
     "duration": 0.018031,
     "end_time": "2022-08-02T06:54:42.201739",
     "exception": false,
     "start_time": "2022-08-02T06:54:42.183708",
     "status": "completed"
    },
    "tags": []
   },
   "outputs": [
    {
     "data": {
      "text/plain": [
       "'Need to finalize the demo corpus which will be used for this notebook and it should be done soon !!. It should be done by the ending of this month. But will it? This notebook has been run 4 times !!'"
      ]
     },
     "execution_count": 2,
     "metadata": {},
     "output_type": "execute_result"
    }
   ],
   "source": [
    "#Text used in this notebook\n",
    "corpus = \"Need to finalize the demo corpus which will be used for this notebook and it should be done soon !!. It should be done by the ending of this month. But will it? This notebook has been run 4 times !!\"\n",
    "corpus_original = \"Need to finalize the demo corpus which will be used for this notebook and it should be done soon !!. It should be done by the ending of this month. But will it? This notebook has been run 4 times !!\"\n",
    "corpus"
   ]
  },
  {
   "cell_type": "markdown",
   "id": "f3f8fae3",
   "metadata": {
    "papermill": {
     "duration": 0.003602,
     "end_time": "2022-08-02T06:54:42.209428",
     "exception": false,
     "start_time": "2022-08-02T06:54:42.205826",
     "status": "completed"
    },
    "tags": []
   },
   "source": [
    "# **Preprocessing**"
   ]
  },
  {
   "cell_type": "code",
   "execution_count": 3,
   "id": "b9416cd4",
   "metadata": {
    "execution": {
     "iopub.execute_input": "2022-08-02T06:54:42.219254Z",
     "iopub.status.busy": "2022-08-02T06:54:42.218455Z",
     "iopub.status.idle": "2022-08-02T06:54:42.225707Z",
     "shell.execute_reply": "2022-08-02T06:54:42.224755Z"
    },
    "papermill": {
     "duration": 0.014742,
     "end_time": "2022-08-02T06:54:42.227995",
     "exception": false,
     "start_time": "2022-08-02T06:54:42.213253",
     "status": "completed"
    },
    "tags": []
   },
   "outputs": [
    {
     "data": {
      "text/plain": [
       "'Need to finalize the demo corpus which will be used for this notebook and it should be done soon !!. It should be done by the ending of this month. But will it? This notebook has been run  times !!'"
      ]
     },
     "execution_count": 3,
     "metadata": {},
     "output_type": "execute_result"
    }
   ],
   "source": [
    "# Remove digits\n",
    "corpus = re.sub(r'\\d+','',corpus)\n",
    "corpus"
   ]
  },
  {
   "cell_type": "code",
   "execution_count": 4,
   "id": "08702203",
   "metadata": {
    "execution": {
     "iopub.execute_input": "2022-08-02T06:54:42.238360Z",
     "iopub.status.busy": "2022-08-02T06:54:42.237551Z",
     "iopub.status.idle": "2022-08-02T06:54:42.245128Z",
     "shell.execute_reply": "2022-08-02T06:54:42.244219Z"
    },
    "papermill": {
     "duration": 0.015342,
     "end_time": "2022-08-02T06:54:42.247442",
     "exception": false,
     "start_time": "2022-08-02T06:54:42.232100",
     "status": "completed"
    },
    "tags": []
   },
   "outputs": [
    {
     "data": {
      "text/plain": [
       "'Need to finalize the demo corpus which will be used for this notebook and it should be done soon  It should be done by the ending of this month But will it This notebook has been run  times '"
      ]
     },
     "execution_count": 4,
     "metadata": {},
     "output_type": "execute_result"
    }
   ],
   "source": [
    "# Remove punctuations\n",
    "corpus = corpus.translate(str.maketrans('', '', string.punctuation))\n",
    "corpus"
   ]
  },
  {
   "cell_type": "code",
   "execution_count": 5,
   "id": "f96545f8",
   "metadata": {
    "execution": {
     "iopub.execute_input": "2022-08-02T06:54:42.258446Z",
     "iopub.status.busy": "2022-08-02T06:54:42.257725Z",
     "iopub.status.idle": "2022-08-02T06:54:42.264015Z",
     "shell.execute_reply": "2022-08-02T06:54:42.262673Z"
    },
    "papermill": {
     "duration": 0.014468,
     "end_time": "2022-08-02T06:54:42.266105",
     "exception": false,
     "start_time": "2022-08-02T06:54:42.251637",
     "status": "completed"
    },
    "tags": []
   },
   "outputs": [
    {
     "data": {
      "text/plain": [
       "'need to finalize the demo corpus which will be used for this notebook and it should be done soon  it should be done by the ending of this month but will it this notebook has been run  times '"
      ]
     },
     "execution_count": 5,
     "metadata": {},
     "output_type": "execute_result"
    }
   ],
   "source": [
    "#Convert to lowercase\n",
    "corpus = corpus.lower()\n",
    "corpus"
   ]
  },
  {
   "cell_type": "code",
   "execution_count": 6,
   "id": "40bb234b",
   "metadata": {
    "execution": {
     "iopub.execute_input": "2022-08-02T06:54:42.276688Z",
     "iopub.status.busy": "2022-08-02T06:54:42.275975Z",
     "iopub.status.idle": "2022-08-02T06:54:42.282684Z",
     "shell.execute_reply": "2022-08-02T06:54:42.281805Z"
    },
    "papermill": {
     "duration": 0.014521,
     "end_time": "2022-08-02T06:54:42.284926",
     "exception": false,
     "start_time": "2022-08-02T06:54:42.270405",
     "status": "completed"
    },
    "tags": []
   },
   "outputs": [
    {
     "data": {
      "text/plain": [
       "'need to finalize the demo corpus which will be used for this notebook and it should be done soon it should be done by the ending of this month but will it this notebook has been run times'"
      ]
     },
     "execution_count": 6,
     "metadata": {},
     "output_type": "execute_result"
    }
   ],
   "source": [
    "#Remove tailing spaces\n",
    "corpus = ' '.join([str1 for str1 in corpus.split()])\n",
    "corpus"
   ]
  },
  {
   "cell_type": "markdown",
   "id": "d8ba1c9e",
   "metadata": {
    "papermill": {
     "duration": 0.004133,
     "end_time": "2022-08-02T06:54:42.293797",
     "exception": false,
     "start_time": "2022-08-02T06:54:42.289664",
     "status": "completed"
    },
    "tags": []
   },
   "source": [
    "# **Tokenization**"
   ]
  },
  {
   "cell_type": "code",
   "execution_count": 7,
   "id": "9fb66bfa",
   "metadata": {
    "execution": {
     "iopub.execute_input": "2022-08-02T06:54:42.304623Z",
     "iopub.status.busy": "2022-08-02T06:54:42.303865Z",
     "iopub.status.idle": "2022-08-02T06:54:42.330078Z",
     "shell.execute_reply": "2022-08-02T06:54:42.328764Z"
    },
    "papermill": {
     "duration": 0.034977,
     "end_time": "2022-08-02T06:54:42.333078",
     "exception": false,
     "start_time": "2022-08-02T06:54:42.298101",
     "status": "completed"
    },
    "tags": []
   },
   "outputs": [
    {
     "name": "stdout",
     "output_type": "stream",
     "text": [
      "Tokenized words with Stopwords: ['need', 'to', 'finalize', 'the', 'demo', 'corpus', 'which', 'will', 'be', 'used', 'for', 'this', 'notebook', 'and', 'it', 'should', 'be', 'done', 'soon', 'it', 'should', 'be', 'done', 'by', 'the', 'ending', 'of', 'this', 'month', 'but', 'will', 'it', 'this', 'notebook', 'has', 'been', 'run', 'times']\n",
      "----------------------------------------------------------------------------------------------------------\n",
      "Tokenized words without Stopwords: ['need', 'finalize', 'demo', 'corpus', 'used', 'notebook', 'done', 'soon', 'done', 'ending', 'month', 'notebook', 'run', 'times']\n"
     ]
    }
   ],
   "source": [
    "from nltk.corpus import stopwords\n",
    "#nltk.download('stopwords')\n",
    "#nltk.download('punkt')\n",
    "from nltk.tokenize import word_tokenize\n",
    "stop_words_nltk = set(stopwords.words('english'))\n",
    "\n",
    "\n",
    "Tokenized_words = word_tokenize(corpus)\n",
    "print(f'Tokenized words with Stopwords:',Tokenized_words)\n",
    "\n",
    "print(\"--\"*53)\n",
    "\n",
    "Tokenized_words_without_stopwords = [i for i in Tokenized_words if i not in stop_words_nltk]\n",
    "print(f'Tokenized words without Stopwords:',Tokenized_words_without_stopwords)"
   ]
  },
  {
   "cell_type": "markdown",
   "id": "96289e33",
   "metadata": {
    "papermill": {
     "duration": 0.004686,
     "end_time": "2022-08-02T06:54:42.342734",
     "exception": false,
     "start_time": "2022-08-02T06:54:42.338048",
     "status": "completed"
    },
    "tags": []
   },
   "source": [
    "# **Stemming**"
   ]
  },
  {
   "cell_type": "code",
   "execution_count": 8,
   "id": "beeb7eeb",
   "metadata": {
    "execution": {
     "iopub.execute_input": "2022-08-02T06:54:42.354178Z",
     "iopub.status.busy": "2022-08-02T06:54:42.353134Z",
     "iopub.status.idle": "2022-08-02T06:54:42.361248Z",
     "shell.execute_reply": "2022-08-02T06:54:42.359817Z"
    },
    "papermill": {
     "duration": 0.016161,
     "end_time": "2022-08-02T06:54:42.363543",
     "exception": false,
     "start_time": "2022-08-02T06:54:42.347382",
     "status": "completed"
    },
    "tags": []
   },
   "outputs": [
    {
     "name": "stdout",
     "output_type": "stream",
     "text": [
      "Before stemming:\n",
      " need to finalize the demo corpus which will be used for this notebook and it should be done soon it should be done by the ending of this month but will it this notebook has been run times\n",
      "----------------------------------------------------------------------------------------------------------\n",
      "After stemming:\n",
      "need to final the demo corpu which will be use for thi notebook and it should be done soon it should be done by the end of thi month but will it thi notebook ha been run time "
     ]
    }
   ],
   "source": [
    "from nltk.stem import PorterStemmer\n",
    "stemmer = PorterStemmer()\n",
    "\n",
    "print(f'Before stemming:\\n',corpus)\n",
    "\n",
    "print('--'*53)\n",
    "print('After stemming:')\n",
    "for i in Tokenized_words:\n",
    "    print(stemmer.stem(i),end = ' ')"
   ]
  },
  {
   "cell_type": "markdown",
   "id": "955b1d86",
   "metadata": {
    "papermill": {
     "duration": 0.004332,
     "end_time": "2022-08-02T06:54:42.372611",
     "exception": false,
     "start_time": "2022-08-02T06:54:42.368279",
     "status": "completed"
    },
    "tags": []
   },
   "source": [
    "# **POS Tagging**"
   ]
  },
  {
   "cell_type": "code",
   "execution_count": 9,
   "id": "2825559d",
   "metadata": {
    "execution": {
     "iopub.execute_input": "2022-08-02T06:54:42.384120Z",
     "iopub.status.busy": "2022-08-02T06:54:42.382874Z",
     "iopub.status.idle": "2022-08-02T06:54:42.533083Z",
     "shell.execute_reply": "2022-08-02T06:54:42.531322Z"
    },
    "papermill": {
     "duration": 0.158741,
     "end_time": "2022-08-02T06:54:42.535873",
     "exception": false,
     "start_time": "2022-08-02T06:54:42.377132",
     "status": "completed"
    },
    "tags": []
   },
   "outputs": [
    {
     "name": "stdout",
     "output_type": "stream",
     "text": [
      "POS Tagging using NLTK:\n",
      "[('Need', 'NN'),\n",
      " ('to', 'TO'),\n",
      " ('finalize', 'VB'),\n",
      " ('the', 'DT'),\n",
      " ('demo', 'NN'),\n",
      " ('corpus', 'NN'),\n",
      " ('which', 'WDT'),\n",
      " ('will', 'MD'),\n",
      " ('be', 'VB'),\n",
      " ('used', 'VBN'),\n",
      " ('for', 'IN'),\n",
      " ('this', 'DT'),\n",
      " ('notebook', 'NN'),\n",
      " ('and', 'CC'),\n",
      " ('it', 'PRP'),\n",
      " ('should', 'MD'),\n",
      " ('be', 'VB'),\n",
      " ('done', 'VBN'),\n",
      " ('soon', 'RB'),\n",
      " ('!', '.'),\n",
      " ('!', '.'),\n",
      " ('.', '.'),\n",
      " ('It', 'PRP'),\n",
      " ('should', 'MD'),\n",
      " ('be', 'VB'),\n",
      " ('done', 'VBN'),\n",
      " ('by', 'IN'),\n",
      " ('the', 'DT'),\n",
      " ('ending', 'VBG'),\n",
      " ('of', 'IN'),\n",
      " ('this', 'DT'),\n",
      " ('month', 'NN'),\n",
      " ('.', '.'),\n",
      " ('But', 'CC'),\n",
      " ('will', 'MD'),\n",
      " ('it', 'PRP'),\n",
      " ('?', '.'),\n",
      " ('This', 'DT'),\n",
      " ('notebook', 'NN'),\n",
      " ('has', 'VBZ'),\n",
      " ('been', 'VBN'),\n",
      " ('run', 'VBN'),\n",
      " ('4', 'CD'),\n",
      " ('times', 'NNS'),\n",
      " ('!', '.'),\n",
      " ('!', '.')]\n"
     ]
    }
   ],
   "source": [
    "#POS tagging using NLTK\n",
    "from pprint import pprint\n",
    "\n",
    "print(\"POS Tagging using NLTK:\")\n",
    "pprint(nltk.pos_tag(word_tokenize(corpus_original)))"
   ]
  },
  {
   "cell_type": "code",
   "execution_count": null,
   "id": "f7aa0d7d",
   "metadata": {
    "papermill": {
     "duration": 0.004235,
     "end_time": "2022-08-02T06:54:42.544728",
     "exception": false,
     "start_time": "2022-08-02T06:54:42.540493",
     "status": "completed"
    },
    "tags": []
   },
   "outputs": [],
   "source": []
  }
 ],
 "metadata": {
  "kernelspec": {
   "display_name": "Python 3",
   "language": "python",
   "name": "python3"
  },
  "language_info": {
   "codemirror_mode": {
    "name": "ipython",
    "version": 3
   },
   "file_extension": ".py",
   "mimetype": "text/x-python",
   "name": "python",
   "nbconvert_exporter": "python",
   "pygments_lexer": "ipython3",
   "version": "3.7.12"
  },
  "papermill": {
   "default_parameters": {},
   "duration": 13.452598,
   "end_time": "2022-08-02T06:54:43.371810",
   "environment_variables": {},
   "exception": null,
   "input_path": "__notebook__.ipynb",
   "output_path": "__notebook__.ipynb",
   "parameters": {},
   "start_time": "2022-08-02T06:54:29.919212",
   "version": "2.3.4"
  }
 },
 "nbformat": 4,
 "nbformat_minor": 5
}
